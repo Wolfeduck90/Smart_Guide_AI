{
 "cells": [
  {
   "cell_type": "code",
   "execution_count": null,
   "id": "5a37c252-24ad-48f9-8edd-6fe3d670031e",
   "metadata": {},
   "outputs": [],
   "source": []
  },
  {
   "cell_type": "markdown",
   "id": "eeff4268-5c84-4226-82f1-38908d03c644",
   "metadata": {},
   "source": [
    "Cell 1: Load Libraries"
   ]
  },
  {
   "cell_type": "code",
   "execution_count": 55,
   "id": "212572bc-436e-44ae-9437-947c368d2cd4",
   "metadata": {},
   "outputs": [],
   "source": [
    "import pandas as pd\n",
    "import numpy as np\n",
    "import seaborn as sns\n",
    "import matplotlib.pyplot as plt\n",
    "from sklearn.model_selection import train_test_split\n",
    "from sklearn.linear_model import LinearRegression\n",
    "from sklearn.preprocessing import OneHotEncoder\n",
    "from sklearn.compose import ColumnTransformer\n",
    "from sklearn.pipeline import Pipeline"
   ]
  },
  {
   "cell_type": "markdown",
   "id": "0f2bde08-4984-41e9-8841-e58179ca27d2",
   "metadata": {},
   "source": [
    "Cell 2: Load Datasets and Inspect Structure"
   ]
  },
  {
   "cell_type": "code",
   "execution_count": 56,
   "id": "f3c906b7-0366-46bd-9e8f-822331d68603",
   "metadata": {},
   "outputs": [
    {
     "name": "stdout",
     "output_type": "stream",
     "text": [
      "📦 crop_df columns: ['index', 'LOCATION', 'INDICATOR', 'SUBJECT', 'MEASURE', 'FREQUENCY', 'TIME', 'Value', 'Flag Codes']\n",
      "🌡️ temp_df columns: ['dt', 'AverageTemperature', 'AverageTemperatureUncertainty', 'Country']\n",
      "🚜 agri_df columns: ['Farm_ID', 'Crop_Type', 'Farm_Area(acres)', 'Irrigation_Type', 'Fertilizer_Used(tons)', 'Pesticide_Used(kg)', 'Yield(tons)', 'Soil_Type', 'Season', 'Water_Usage(cubic meters)']\n"
     ]
    }
   ],
   "source": [
    "crop_df = pd.read_csv(\"datasets/crop_production.csv\")\n",
    "temp_df = pd.read_csv(\"datasets/GlobalLandTemperaturesByCountry.csv\")\n",
    "agri_df = pd.read_csv(\"datasets/agriculture_dataset.csv\")\n",
    "\n",
    "print(\"📦 crop_df columns:\", crop_df.columns.tolist())\n",
    "print(\"🌡️ temp_df columns:\", temp_df.columns.tolist())\n",
    "print(\"🚜 agri_df columns:\", agri_df.columns.tolist())"
   ]
  },
  {
   "cell_type": "code",
   "execution_count": null,
   "id": "9dfeaedd-2137-466d-86f1-447c7d5dbc05",
   "metadata": {},
   "outputs": [],
   "source": [
    "Cell 3: Clean and Standardize Data"
   ]
  },
  {
   "cell_type": "code",
   "execution_count": 57,
   "id": "338dba72-e1b7-43e0-86eb-1dfb252b8cf2",
   "metadata": {},
   "outputs": [
    {
     "name": "stdout",
     "output_type": "stream",
     "text": [
      "🌿 crop_clean sample:\n",
      "   Country  Year  Crop  MetricValue\n",
      "0     AUS  1990  RICE     8.314607\n",
      "1     AUS  1991  RICE     8.394737\n",
      "2     AUS  1992  RICE     8.094340\n",
      "3     AUS  1993  RICE     8.336000\n",
      "4     AUS  1994  RICE     8.537815\n",
      "🌡️ temp_clean sample:\n",
      "   Country  Year  AverageTemperature\n",
      "0   Åland  1743               4.384\n",
      "5   Åland  1744               1.530\n",
      "6   Åland  1744               6.702\n",
      "7   Åland  1744              11.609\n",
      "8   Åland  1744              15.342\n"
     ]
    }
   ],
   "source": [
    "crop_df = crop_df.rename(columns={\n",
    "    'LOCATION': 'Country', 'SUBJECT': 'Crop',\n",
    "    'TIME': 'Year', 'Value': 'MetricValue'\n",
    "})\n",
    "crop_df['Year'] = pd.to_numeric(crop_df['Year'], errors='coerce')\n",
    "crop_clean = crop_df[['Country', 'Year', 'Crop', 'MetricValue']].dropna()\n",
    "\n",
    "temp_df['Year'] = pd.to_datetime(temp_df['dt'], errors='coerce').dt.year\n",
    "temp_clean = temp_df[['Country', 'Year', 'AverageTemperature']].dropna()\n",
    "\n",
    "print(\"🌿 crop_clean sample:\\n\", crop_clean.head())\n",
    "print(\"🌡️ temp_clean sample:\\n\", temp_clean.head())"
   ]
  },
  {
   "cell_type": "markdown",
   "id": "21fbf6fd-4b96-4338-a879-87cceb224f91",
   "metadata": {},
   "source": [
    "Cell 4: Align Country Names and Merge"
   ]
  },
  {
   "cell_type": "code",
   "execution_count": 58,
   "id": "3de5b84a-aa54-4ebc-a629-e766bcc9d9a1",
   "metadata": {},
   "outputs": [
    {
     "name": "stdout",
     "output_type": "stream",
     "text": [
      "🔗 Merged rows: 34200\n",
      "🔗 Sample merged data:\n",
      "      Country  Year  Crop  MetricValue  AverageTemperature\n",
      "0  Australia  1990  RICE     8.314607              28.750\n",
      "1  Australia  1990  RICE     8.314607              27.017\n",
      "2  Australia  1990  RICE     8.314607              26.935\n",
      "3  Australia  1990  RICE     8.314607              22.275\n",
      "4  Australia  1990  RICE     8.314607              19.250\n"
     ]
    }
   ],
   "source": [
    "iso_map = {\n",
    "    'AUS': 'Australia', 'CAN': 'Canada', 'USA': 'United States',\n",
    "    'ARG': 'Argentina', 'MEX': 'Mexico', 'JPN': 'Japan',\n",
    "    'KOR': 'South Korea', 'NZL': 'New Zealand', 'TUR': 'Turkey', 'DZA': 'Algeria'\n",
    "}\n",
    "crop_clean['Country'] = crop_clean['Country'].map(iso_map)\n",
    "\n",
    "temp_filtered = temp_clean[\n",
    "    temp_clean['Country'].isin(crop_clean['Country'].dropna()) &\n",
    "    (temp_clean['Year'] >= 1980)\n",
    "]\n",
    "\n",
    "merged_df = pd.merge(crop_clean, temp_filtered, on=['Country', 'Year'], how='inner')\n",
    "\n",
    "print(\"🔗 Merged rows:\", merged_df.shape[0])\n",
    "print(\"🔗 Sample merged data:\\n\", merged_df.head())"
   ]
  },
  {
   "cell_type": "code",
   "execution_count": null,
   "id": "cf929637-e678-49e7-a8ba-cfff07b9175b",
   "metadata": {},
   "outputs": [],
   "source": [
    "Cell 5: Build AI Recommendation Logic"
   ]
  },
  {
   "cell_type": "code",
   "execution_count": 59,
   "id": "f74630d7-fc3c-4a37-a5b0-64068f50f803",
   "metadata": {},
   "outputs": [],
   "source": [
    "def ai_crop_recommendation(country, crop, temp, metric, size):\n",
    "    crop = crop.lower()\n",
    "    if temp > 28 and metric < 5:\n",
    "        return f\"In {country}, the climate is hot and yield is low—consider switching to sorghum or millet.\"\n",
    "    elif metric > 7 and crop in ['maize', 'rice']:\n",
    "        return f\"{crop.title()} is viable in {country} on your {size} acre farm.\"\n",
    "    else:\n",
    "        return f\"In {country}, consider mixed cropping or improving soil on your {size} acre farm.\""
   ]
  },
  {
   "cell_type": "code",
   "execution_count": null,
   "id": "dbbdd99e-18d5-4966-8e7b-09fc26672cda",
   "metadata": {},
   "outputs": [],
   "source": [
    "Cell 6: Interactive User Input"
   ]
  },
  {
   "cell_type": "code",
   "execution_count": 60,
   "id": "e06b8e4e-d167-4a5a-94a4-b7de7bc910ca",
   "metadata": {},
   "outputs": [
    {
     "name": "stdin",
     "output_type": "stream",
     "text": [
      "🌍 Enter your country:  South Africa\n",
      "🌾 Enter your crop (e.g., Maize):  Maize\n",
      "📐 Enter your farm size in acres:  20\n"
     ]
    },
    {
     "name": "stdout",
     "output_type": "stream",
     "text": [
      "\n",
      "⚠️ No matching data found for your crop and location.\n"
     ]
    }
   ],
   "source": [
    "user_country = input(\"🌍 Enter your country: \")\n",
    "user_crop = input(\"🌾 Enter your crop (e.g., Maize): \")\n",
    "user_size = float(input(\"📐 Enter your farm size in acres: \"))\n",
    "\n",
    "subset = merged_df[\n",
    "    (merged_df['Country'].str.lower() == user_country.lower()) &\n",
    "    (merged_df['Crop'].str.lower() == user_crop.lower())\n",
    "]\n",
    "\n",
    "if subset.empty:\n",
    "    print(\"\\n⚠️ No matching data found for your crop and location.\")\n",
    "else:\n",
    "    avg_temp = subset['AverageTemperature'].mean()\n",
    "    avg_metric = subset['MetricValue'].mean()\n",
    "    recommendation = ai_crop_recommendation(user_country, user_crop, avg_temp, avg_metric, user_size)\n",
    "    print(\"\\n🧠 SmartGuide Recommendation:\\n\", recommendation)\n"
   ]
  },
  {
   "cell_type": "code",
   "execution_count": null,
   "id": "36bc4df1-2f9e-4dd9-964c-334b1cd2a7e0",
   "metadata": {},
   "outputs": [],
   "source": []
  },
  {
   "cell_type": "code",
   "execution_count": null,
   "id": "88d3318c-8a19-4ede-8c06-411ae2f0449f",
   "metadata": {},
   "outputs": [],
   "source": [
    "Cell 7: Train Yield Prediction Model"
   ]
  },
  {
   "cell_type": "code",
   "execution_count": 61,
   "id": "8c707f01-7592-4af0-8e44-e397b41ea42c",
   "metadata": {},
   "outputs": [
    {
     "name": "stdout",
     "output_type": "stream",
     "text": [
      "📈 Yield prediction model trained.\n",
      "R² score: 0.12\n"
     ]
    }
   ],
   "source": [
    "features = ['Farm_Area(acres)', 'Fertilizer_Used(tons)', 'Water_Usage(cubic meters)',\n",
    "            'Pesticide_Used(kg)', 'Soil_Type', 'Season', 'Irrigation_Type']\n",
    "target = 'Yield(tons)'\n",
    "\n",
    "agri_clean = agri_df.dropna(subset=features + [target])\n",
    "X = agri_clean[features]\n",
    "y = agri_clean[target]\n",
    "\n",
    "categorical = ['Soil_Type', 'Season', 'Irrigation_Type']\n",
    "numerical = list(set(features) - set(categorical))\n",
    "\n",
    "preprocessor = ColumnTransformer(\n",
    "    transformers=[\n",
    "        ('num', 'passthrough', numerical),\n",
    "        ('cat', OneHotEncoder(drop='first'), categorical)\n",
    "    ]\n",
    ")\n",
    "\n",
    "model_pipeline = Pipeline(steps=[\n",
    "    ('preprocessing', preprocessor),\n",
    "    ('regression', LinearRegression())\n",
    "])\n",
    "\n",
    "X_train, X_test, y_train, y_test = train_test_split(X, y, test_size=0.2, random_state=42)\n",
    "model_pipeline.fit(X_train, y_train)\n",
    "score = model_pipeline.score(X_test, y_test)\n",
    "\n",
    "print(f\"📈 Yield prediction model trained.\\nR² score: {score:.2f}\")"
   ]
  },
  {
   "cell_type": "code",
   "execution_count": null,
   "id": "a974b39a-f5bb-45d1-81ca-259a82de79b4",
   "metadata": {},
   "outputs": [],
   "source": [
    "Final cell: Proj"
   ]
  }
 ],
 "metadata": {
  "kernelspec": {
   "display_name": "anaconda-2024.02-py310",
   "language": "python",
   "name": "conda-env-anaconda-2024.02-py310-py"
  },
  "language_info": {
   "codemirror_mode": {
    "name": "ipython",
    "version": 3
   },
   "file_extension": ".py",
   "mimetype": "text/x-python",
   "name": "python",
   "nbconvert_exporter": "python",
   "pygments_lexer": "ipython3",
   "version": "3.10.14"
  }
 },
 "nbformat": 4,
 "nbformat_minor": 5
}
