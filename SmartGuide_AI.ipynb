{
 "cells": [
  {
   "cell_type": "markdown",
   "id": "4b8d59b2-dbf6-41ac-9fc0-5d87e61fb7c7",
   "metadata": {},
   "source": [
    "# SmartGuide: AI-Powered Farming Insights\r\n",
    "\r\n",
    "This project builds a lightweight, yet powerful AI tool designed to assist farmers in decision-making using publicly available datasets. From weather patterns to market trends and climate data, SmartGuide provides guidance on crop selection, planting schedules, irrigation timing, and harvesting—contributing to food security and climate resilience.\r\n"
   ]
  },
  {
   "cell_type": "code",
   "execution_count": null,
   "id": "bff4e226-1ff1-4f64-b734-ebe025215240",
   "metadata": {},
   "outputs": [],
   "source": [
    "import pandas as pd\n",
    "import numpy as np\n",
    "import requests\n",
    "import matplotlib.pyplot as plt\n",
    "import seaborn as sns\n",
    "\n",
    "from sklearn.ensemble import RandomForestRegressor\n",
    "from transformers import pipeline\n"
   ]
  },
  {
   "cell_type": "markdown",
   "id": "97b03fae-e4f4-459e-b369-5b3eae73c77b",
   "metadata": {},
   "source": [
    "## Data Sources\r\n",
    "\r\n",
    "We use existing APIs and datasets such as:\r\n",
    "- **OpenWeatherMap** for local forecasts\r\n",
    "- **FAO/USDA/commodity APIs** for market price trends\r\n",
    "- **NASA POWER or Copernicus** for climate data signals\r\n",
    "\r\n",
    "The tool focuses on regions with available data, assuming small-scale farming operations and low technical barriers.\r\n"
   ]
  },
  {
   "cell_type": "code",
   "execution_count": null,
   "id": "f4555244-81bc-4881-a369-3bdaab3c408d",
   "metadata": {},
   "outputs": [],
   "source": [
    "def suggest_crop(temp, rainfall, market_demand):\n",
    "    if temp > 25 and rainfall < 400:\n",
    "        return \"Consider drought-tolerant crops like sorghum or millet\"\n",
    "    elif market_demand.get(\"maize\", 0) > 1000:\n",
    "        return \"Maize is currently in high demand\"\n",
    "    else:\n",
    "        return \"Review soil and nutrient conditions for best match\"\n"
   ]
  },
  {
   "cell_type": "code",
   "execution_count": null,
   "id": "52daf7f8-64b6-46cc-bc95-4053f5e322b7",
   "metadata": {},
   "outputs": [],
   "source": [
    "def planting_schedule(weather_forecast, crop_type):\n",
    "    rain_days = sum(['rain' in day.lower() for day in weather_forecast])\n",
    "    if rain_days >= 3 and crop_type.lower() == 'maize':\n",
    "        return \"Optimal planting window: sufficient moisture expected\"\n",
    "    else:\n",
    "        return \"Hold off planting—insufficient rain forecasted\"\n"
   ]
  },
  {
   "cell_type": "code",
   "execution_count": null,
   "id": "3a3d55c1-5327-44b7-a201-f15ab5233f05",
   "metadata": {},
   "outputs": [],
   "source": [
    "def plot_market_trends(dataframe):\n",
    "    sns.lineplot(x='Date', y='Price', hue='Crop', data=dataframe)\n",
    "    plt.title(\"Crop Market Price Trends\")\n",
    "    plt.xlabel(\"Date\")\n",
    "    plt.ylabel(\"Price (USD)\")\n",
    "    plt.show()\n"
   ]
  },
  {
   "cell_type": "markdown",
   "id": "789e7dbf-04f4-4872-afba-445529e03c78",
   "metadata": {},
   "source": [
    "## Model Reasoning\r\n",
    "\r\n",
    "Crop recommendations are based on:\r\n",
    "- **Temperature and rainfall thresholds**\r\n",
    "- **Market demand signals from public data**\r\n",
    "- **Simplified decision logic (and potential for ML-based extension)**\r\n",
    "\r\n",
    "All suggestions are context-aware, aiming to stabilize food production and minimize risk under climate volatility.\r\n"
   ]
  },
  {
   "cell_type": "markdown",
   "id": "3705cf47-07f4-47ae-8489-ec3583e5a31a",
   "metadata": {},
   "source": [
    "## Ethics & Practical Concerns\r\n",
    "\r\n",
    "- Avoid monoculture and loss of biodiversity\r\n",
    "- Validate suggestions with local agronomists\r\n",
    "- Ensure all recommendations stay adaptive to climate shifts\r\n"
   ]
  },
  {
   "cell_type": "markdown",
   "id": "6477278a-975a-4040-8103-924f3bd774d4",
   "metadata": {},
   "source": [
    "## Sample Data Used\r\n",
    "\r\n",
    "- `weather_data.csv`: Daily temperature, rainfall, and weather events  \r\n",
    "- `market_prices.csv`: Historical crop prices and demand levels  \r\n"
   ]
  },
  {
   "cell_type": "code",
   "execution_count": null,
   "id": "ef886197-e011-478f-91be-76dab8101ec6",
   "metadata": {},
   "outputs": [],
   "source": [
    "weather_df = pd.DataFrame({\n",
    "    'Date': pd.date_range(start='2023-01-01', periods=7),\n",
    "    'Temperature': [28, 30, 27, 26, 25, 29, 31],\n",
    "    'Rainfall_mm': [0, 5, 0, 15, 20, 0, 0],\n",
    "    'Forecast': ['clear', 'rain', 'clear', 'rain', 'rain', 'clear', 'clear']\n",
    "})\n",
    "\n",
    "market_df = pd.DataFrame({\n",
    "    'Date': pd.date_range(start='2023-01-01', periods=7),\n",
    "    'Crop': ['maize'] * 7,\n",
    "    'Price': [100, 110, 120, 130, 115, 105, 125],\n",
    "    'Demand': [950, 1000, 1050, 1100, 1080, 1020, 1130]\n",
    "})\n"
   ]
  },
  {
   "cell_type": "code",
   "execution_count": null,
   "id": "4c3b2525-2840-4f25-8c0d-b2ba1939b0da",
   "metadata": {},
   "outputs": [],
   "source": [
    "API_KEY = \"your_api_key_here\"\n",
    "CITY = \"Lusaka\"\n",
    "URL = f\"http://api.openweathermap.org/data/2.5/forecast?q={CITY}&appid={API_KEY}&units=metric\"\n",
    "\n",
    "response = requests.get(URL)\n",
    "data = response.json()\n",
    "\n",
    "# Extract forecast summary\n",
    "forecast_summary = [day['weather'][0]['main'] for day in data['list'][::8]]  # one per day\n",
    "forecast_summary[:5]  # Preview next 5 days\n"
   ]
  },
  {
   "cell_type": "code",
   "execution_count": null,
   "id": "639ab715-d491-4b44-814e-8eb2c143bd46",
   "metadata": {},
   "outputs": [],
   "source": [
    "from sklearn.model_selection import train_test_split\n",
    "\n",
    "# Simulated training data\n",
    "X = market_df[['Demand']]\n",
    "y = market_df['Price']\n",
    "\n",
    "X_train, X_test, y_train, y_test = train_test_split(X, y, test_size=0.2)\n",
    "\n",
    "model = RandomForestRegressor(n_estimators=10)\n",
    "model.fit(X_train, y_train)\n",
    "\n",
    "predicted_prices = model.predict(X_test)\n",
    "print(\"Predicted prices:\", predicted_prices)\n"
   ]
  },
  {
   "cell_type": "markdown",
   "id": "261f294c-f863-4a97-96ca-c1bbcf7de8aa",
   "metadata": {},
   "source": [
    "This notebook blends conditional logic and simple ML to generate farmer guidance using accessible data. Its lightweight structure ensures adaptability across regions, while future improvements may include soil condition integration, satellite mapping, and voice-based interfaces for low-literacy contexts.\r\n"
   ]
  },
  {
   "cell_type": "code",
   "execution_count": null,
   "id": "85273026-3e80-4bc5-bc8c-9e174dc4b3a9",
   "metadata": {},
   "outputs": [],
   "source": []
  }
 ],
 "metadata": {
  "kernelspec": {
   "display_name": "anaconda-panel-2023.05-py310",
   "language": "python",
   "name": "conda-env-anaconda-panel-2023.05-py310-py"
  },
  "language_info": {
   "codemirror_mode": {
    "name": "ipython",
    "version": 3
   },
   "file_extension": ".py",
   "mimetype": "text/x-python",
   "name": "python",
   "nbconvert_exporter": "python",
   "pygments_lexer": "ipython3",
   "version": "3.11.5"
  }
 },
 "nbformat": 4,
 "nbformat_minor": 5
}
